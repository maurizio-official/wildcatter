{
 "cells": [
  {
   "cell_type": "markdown",
   "id": "3ecb48a0-f05f-4787-954c-618c9b4a5205",
   "metadata": {
    "pycharm": {
     "name": "#%% md\n"
    }
   },
   "source": [
    "# GITC22 Driller Demo Environment\n",
    "\n",
    "## Copyright\n",
    "\n",
    "*Copyright Geoscience DS&ML Special Interest Group, 2022.*\n",
    "*License: [CC BY 4.0](https://creativecommons.org/licenses/by/4.0/)*\n",
    "*Author(s): [Altay Sansal](https://github.com/tasansal), Eduardo Alvarez*\n",
    "\n",
    "## Prerequisites\n",
    "\n",
    "This notebook assumes familiarity with Reinforcement Learning concepts (agents, spaces, actions, ...) and knowledge of [OpenAI's Gym](https://www.gymlibrary.ml/) APIs and environments.\n",
    "\n",
    "To better understand what we are trying to do, please refer to our hello world example notebook [here](https://github.com/GeoML-SIG/wildcatter/blob/main/examples/01_rl_hello_world_cartpole.ipynb).\n",
    "\n",
    "# Start Workflow\n",
    "\n",
    "Let's some libraries we are going to use for getting and plotting trajectory."
   ]
  },
  {
   "cell_type": "code",
   "execution_count": 5,
   "id": "69dd798e-c44e-4ddf-ac2a-a68708c3f641",
   "metadata": {
    "pycharm": {
     "name": "#%%\n"
    }
   },
   "outputs": [],
   "source": [
    "import numpy as np\n",
    "import matplotlib.pyplot as plt"
   ]
  },
  {
   "cell_type": "markdown",
   "id": "c74c729f",
   "metadata": {
    "pycharm": {
     "name": "#%% md\n"
    }
   },
   "source": [
    "## Gym Agent and Environment\n",
    "\n",
    "We created a simple Environment based on OpenAI's Gym interface. This is contained within Wildcatter's `environment` module.\n",
    "\n",
    "### Things to Know\n",
    "1. The only observation of the model state is the borehole trajectory, production or reservoir is not considered in reward.\n",
    "2. Surface hole location is randomly selected at each environment reset.\n",
    "3. Collision logic is implemented in three ways:\n",
    "    3.1. Game over if agent hits East or West boundaries.\n",
    "    3.2. Game over if agent hits North (surface) or South boundaries.\n",
    "    3.3. Game over if borehole collides with itself.\n",
    "4. Realistically all that can be optimized now is drilling direction based on available drill pipe, proximity to reservoir, etc.\n",
    "\n",
    "The action space consists of four discrete actions:\n",
    "\n",
    "Action Space:\n",
    "\n",
    "| Num | Action         |\n",
    "|:---:|----------------|\n",
    "|  0  | Move bit down  |\n",
    "|  1  | Move bit left  |\n",
    "|  2  | Move bit right |\n",
    "|  3  | Move bit up    |\n",
    "\n",
    "The Observation Space:\n",
    "\n",
    "It is a Box observation space with 40 rows and 80 columns.\n",
    "Data type is `bool` and it will be True where the well trajectory is.\n",
    "The RL algorithm will see the full trajectory as the state.\n",
    "\n",
    "`bit_location = [row, col] = [depth, surface_loc]`\n",
    "\n",
    "`trajectory = [[row1, col1], [row2, col2], ..., [rowN, colN]]`\n",
    "\n",
    "All reward models are created using tiled, here is the download link [here](https://www.mapeditor.org/).\n",
    "\n",
    "# Create SimpleDriller Environment\n",
    "\n",
    "Here we generate our environment. Then we randomly sample actions and plot it. We won't be seeing a reasonable well-path due to\n",
    "randomness of the actions. The random actions typically cause a collision with the well-bore, or going out of the earth to air."
   ]
  },
  {
   "cell_type": "code",
   "execution_count": 7,
   "id": "f4aec46f",
   "metadata": {
    "collapsed": false,
    "jupyter": {
     "outputs_hidden": false
    },
    "pycharm": {
     "name": "#%%\n"
    }
   },
   "outputs": [
    {
     "ename": "ModuleNotFoundError",
     "evalue": "No module named 'wildcatter'",
     "output_type": "error",
     "traceback": [
      "\u001b[0;31m---------------------------------------------------------------------------\u001b[0m",
      "\u001b[0;31mModuleNotFoundError\u001b[0m                       Traceback (most recent call last)",
      "Input \u001b[0;32mIn [7]\u001b[0m, in \u001b[0;36m<cell line: 1>\u001b[0;34m()\u001b[0m\n\u001b[0;32m----> 1\u001b[0m \u001b[38;5;28;01mfrom\u001b[39;00m \u001b[38;5;21;01mwildcatter\u001b[39;00m\u001b[38;5;21;01m.\u001b[39;00m\u001b[38;5;21;01menvironment\u001b[39;00m \u001b[38;5;28;01mimport\u001b[39;00m SimpleDriller\n\u001b[1;32m      3\u001b[0m env_config \u001b[38;5;241m=\u001b[39m \u001b[38;5;28mdict\u001b[39m(model_path\u001b[38;5;241m=\u001b[39m\u001b[38;5;124mr\u001b[39m\u001b[38;5;124m\"\u001b[39m\u001b[38;5;124mdata/2d_stacked.csv\u001b[39m\u001b[38;5;124m\"\u001b[39m, available_pipe\u001b[38;5;241m=\u001b[39m\u001b[38;5;241m50\u001b[39m, delim\u001b[38;5;241m=\u001b[39m\u001b[38;5;124m\"\u001b[39m\u001b[38;5;124m,\u001b[39m\u001b[38;5;124m\"\u001b[39m)\n\u001b[1;32m      5\u001b[0m env \u001b[38;5;241m=\u001b[39m SimpleDriller(env_config)\n",
      "\u001b[0;31mModuleNotFoundError\u001b[0m: No module named 'wildcatter'"
     ]
    }
   ],
   "source": [
    "from wildcatter.environment import SimpleDriller\n",
    "\n",
    "env_config = dict(model_path=r\"data/2d_stacked.csv\", available_pipe=50, delim=\",\")\n",
    "\n",
    "env = SimpleDriller(env_config)\n",
    "\n",
    "episodes = 1\n",
    "for episode in range(1, episodes + 1):\n",
    "    print(\"Beginning Drill Campaign:\", episode)\n",
    "    state = env.reset()\n",
    "    done = False\n",
    "    score = 0\n",
    "\n",
    "    while not done:\n",
    "        action = env.action_space.sample()\n",
    "        state, reward, done, info = env.step(action)\n",
    "        score += reward\n",
    "\n",
    "# This comes in as [[row1, col1], ..., [rowN, colN]]\n",
    "# Once we unpack it its z, then x.\n",
    "traj_z, traj_x = np.asarray(env.trajectory).T\n",
    "\n",
    "plt.figure(figsize=(20, 20))\n",
    "plt.imshow(env.model, vmin=-10, vmax=2)\n",
    "plt.plot(traj_x, traj_z, \"-\", c=\"m\", linewidth=6)\n",
    "plt.xticks(np.arange(0, 80, 1.0))\n",
    "plt.yticks(np.arange(0, 40, 1.0))\n",
    "plt.xlim([-0.5, 79.5])\n",
    "plt.ylim([39.5, -0.5])\n",
    "plt.grid()"
   ]
  },
  {
   "cell_type": "markdown",
   "id": "c30986eb",
   "metadata": {
    "pycharm": {
     "name": "#%% md\n"
    }
   },
   "source": [
    "## PPO Agent Training\n",
    "\n",
    "Here we will import Proximal Policy Optimization (PPO) algorithm from Stable Baselines3 and train it with minimal parameters.\n",
    "\n",
    "We allow it to train for 50,000 time samples.\n",
    "\n",
    "For more information about PPO, please refer to our hello world example notebook [here](https://github.com/GeoML-SIG/wildcatter/blob/main/examples/01_rl_hello_world_cartpole.ipynb)."
   ]
  },
  {
   "cell_type": "code",
   "execution_count": 17,
   "id": "ac82878f",
   "metadata": {
    "collapsed": false,
    "jupyter": {
     "outputs_hidden": false
    },
    "pycharm": {
     "name": "#%%\n"
    }
   },
   "outputs": [
    {
     "name": "stdout",
     "output_type": "stream",
     "text": [
      "Using cpu device\n",
      "Wrapping the env with a `Monitor` wrapper\n",
      "Wrapping the env in a DummyVecEnv.\n",
      "------------------------------------------\n",
      "| rollout/                |              |\n",
      "|    ep_len_mean          | 25.1         |\n",
      "|    ep_rew_mean          | 151          |\n",
      "| time/                   |              |\n",
      "|    fps                  | 1102         |\n",
      "|    iterations           | 10           |\n",
      "|    time_elapsed         | 18           |\n",
      "|    total_timesteps      | 20480        |\n",
      "| train/                  |              |\n",
      "|    approx_kl            | 0.0059160804 |\n",
      "|    clip_fraction        | 0.047        |\n",
      "|    clip_range           | 0.2          |\n",
      "|    entropy_loss         | -0.614       |\n",
      "|    explained_variance   | 0.212        |\n",
      "|    learning_rate        | 0.0003       |\n",
      "|    loss                 | 4.22e+03     |\n",
      "|    n_updates            | 90           |\n",
      "|    policy_gradient_loss | -0.0143      |\n",
      "|    value_loss           | 9.14e+03     |\n",
      "------------------------------------------\n",
      "-----------------------------------------\n",
      "| rollout/                |             |\n",
      "|    ep_len_mean          | 36.1        |\n",
      "|    ep_rew_mean          | 297         |\n",
      "| time/                   |             |\n",
      "|    fps                  | 1079        |\n",
      "|    iterations           | 20          |\n",
      "|    time_elapsed         | 37          |\n",
      "|    total_timesteps      | 40960       |\n",
      "| train/                  |             |\n",
      "|    approx_kl            | 0.005496213 |\n",
      "|    clip_fraction        | 0.0279      |\n",
      "|    clip_range           | 0.2         |\n",
      "|    entropy_loss         | -0.345      |\n",
      "|    explained_variance   | 0.497       |\n",
      "|    learning_rate        | 0.0003      |\n",
      "|    loss                 | 2.97e+03    |\n",
      "|    n_updates            | 190         |\n",
      "|    policy_gradient_loss | -0.011      |\n",
      "|    value_loss           | 6.79e+03    |\n",
      "-----------------------------------------\n"
     ]
    },
    {
     "data": {
      "text/plain": [
       "<stable_baselines3.ppo.ppo.PPO at 0x1f738fefc10>"
      ]
     },
     "execution_count": 17,
     "metadata": {},
     "output_type": "execute_result"
    }
   ],
   "source": [
    "from stable_baselines3 import PPO\n",
    "\n",
    "model = PPO(\"MlpPolicy\", env, verbose=1)\n",
    "model.learn(total_timesteps=50_000, log_interval=10)"
   ]
  },
  {
   "cell_type": "markdown",
   "id": "c4eb063d",
   "metadata": {
    "pycharm": {
     "name": "#%% md\n"
    }
   },
   "source": [
    "Once learning is complete, we can use the model to generate a new trajectory to maximize reward.\n",
    "\n",
    "We will be using the same code snippet from above, but replacing the action generation with the `model.predict()` method, instead\n",
    "of randomly sampling from the action space."
   ]
  },
  {
   "cell_type": "code",
   "execution_count": 26,
   "id": "5b824274",
   "metadata": {
    "collapsed": false,
    "jupyter": {
     "outputs_hidden": false
    },
    "pycharm": {
     "name": "#%%\n"
    }
   },
   "outputs": [
    {
     "name": "stdout",
     "output_type": "stream",
     "text": [
      "Beginning Drill Campaign: 1\n"
     ]
    },
    {
     "data": {
      "image/png": "[encoded data removed]",
      "text/plain": [
       "<Figure size 1440x1440 with 1 Axes>"
      ]
     },
     "metadata": {
      "needs_background": "light"
     },
     "output_type": "display_data"
    }
   ],
   "source": [
    "env = SimpleDriller(env_config)\n",
    "\n",
    "episodes = 1\n",
    "for episode in range(1, episodes + 1):\n",
    "    print(\"Beginning Drill Campaign:\", episode)\n",
    "    state = env.reset()\n",
    "    done = False\n",
    "    score = 0\n",
    "\n",
    "    while not done:\n",
    "        action, _states = model.predict(state)\n",
    "        state, reward, done, info = env.step(action)\n",
    "        score += reward\n",
    "\n",
    "# This comes in as [[row1, col1], ..., [rowN, colN]]\n",
    "# Once we unpack it its z, then x.\n",
    "traj_z, traj_x = np.asarray(env.trajectory).T\n",
    "\n",
    "plt.figure(figsize=(20, 20))\n",
    "plt.imshow(env.model, vmin=-10, vmax=2)\n",
    "plt.plot(traj_x, traj_z, \"-\", c=\"m\", linewidth=6)\n",
    "plt.xticks(np.arange(0, 80, 1.0))\n",
    "plt.yticks(np.arange(0, 40, 1.0))\n",
    "plt.xlim([-0.5, 79.5])\n",
    "plt.ylim([39.5, -0.5])\n",
    "plt.grid()"
   ]
  },
  {
   "cell_type": "markdown",
   "id": "7d3c4738",
   "metadata": {
    "pycharm": {
     "name": "#%% md\n"
    }
   },
   "source": [
    "## Visualize State\n",
    "\n",
    "As we mentioned before, the state is binary (boolean) well trajectory. If we wanted to plot it, we get the `state` attribute and use `imshow`.\n",
    "\n",
    "Remember, this is what the RL algorithm sees! There is a lot of room for improving the observation of the system to optimize the drilling parameters."
   ]
  },
  {
   "cell_type": "code",
   "execution_count": 27,
   "id": "3d8b648c",
   "metadata": {
    "collapsed": false,
    "jupyter": {
     "outputs_hidden": false
    },
    "pycharm": {
     "name": "#%%\n"
    }
   },
   "outputs": [
    {
     "data": {
      "text/plain": [
       "<matplotlib.image.AxesImage at 0x1f741091f40>"
      ]
     },
     "execution_count": 27,
     "metadata": {},
     "output_type": "execute_result"
    },
    {
     "data": {
      "image/png": "[encoded data removed]",
      "text/plain": [
       "<Figure size 432x288 with 1 Axes>"
      ]
     },
     "metadata": {
      "needs_background": "light"
     },
     "output_type": "display_data"
    }
   ],
   "source": [
    "plt.imshow(env.state)"
   ]
  },
  {
   "cell_type": "markdown",
   "id": "6c8f26bb",
   "metadata": {
    "pycharm": {
     "name": "#%% md\n"
    }
   },
   "source": [
    "# Conclusion\n",
    "\n",
    "We trained a driller to maximize reward based on traversing the \"earth model\".\n",
    "\n",
    "The current approach has many known limitations, such as:\n",
    "1. There is no proximity to pay in observation (state), hence it only learns to go down and sometimes diagonal to maximize reward. With the given observations, this is acceptable!\n",
    "2. The reward system is not very realistic, 1-5 values indicate ok to best \"reservoirs\".\n",
    "3. Reservoir covers the whole interval, there are no specific \"targets\".\n",
    "4. No geo-mechanics\n",
    "5. No real cost\n",
    "6. And more missing dynamics!\n",
    "\n",
    "We left the low-hanging fruit for the GITC22 participants to explore and implement. Have fun!"
   ]
  }
 ],
 "metadata": {
  "kernelspec": {
   "display_name": "wildcatter:Python",
   "language": "python",
   "name": "conda-env-wildcatter-py"
  },
  "language_info": {
   "codemirror_mode": {
    "name": "ipython",
    "version": 3
   },
   "file_extension": ".py",
   "mimetype": "text/x-python",
   "name": "python",
   "nbconvert_exporter": "python",
   "pygments_lexer": "ipython3",
   "version": "3.9.13"
  }
 },
 "nbformat": 4,
 "nbformat_minor": 5
}
